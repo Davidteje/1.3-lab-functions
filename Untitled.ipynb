{
 "cells": [
  {
   "cell_type": "markdown",
   "id": "1760db03",
   "metadata": {},
   "source": [
    "## 12. Write a function to check if a given password is strong (at least 8 characters, at least one lower case, at least one upper case, at least one number and at least one special character). It should output True if strong and False if not.\n",
    "`Valid special characters: # @ ! $ % & ( ) ^ * [ ] { }`"
   ]
  },
  {
   "cell_type": "code",
   "execution_count": 213,
   "id": "baa4364e",
   "metadata": {},
   "outputs": [],
   "source": [
    "def check_pass(string):\n",
    "    \n",
    "    lower_case = 'abcdefghijklmnopqrstuvwxyz'\n",
    "    upper_case = lower_case.upper()\n",
    "    numbers = '1234567890'\n",
    "    characters = '#@!$%&()^*[]{}'\n",
    "    \n",
    "    if len(string) < 8:\n",
    "        return False\n",
    "    \n",
    "    else:\n",
    "        for i in range(len(lower_case)):\n",
    "            if lower_case[i] in string:\n",
    "                print(lower_case[i])\n",
    "                \n",
    "        for j in range(len(upper_case)):\n",
    "            if upper_case[j] in string:\n",
    "                print('hola')\n",
    "                    # print(upper_case[j])\n",
    "                \n",
    "                \n",
    "\n",
    "                \n",
    "        \n",
    "\n",
    "                \n",
    "                \n",
    "\n",
    "                \n",
    "\n",
    "                \n"
   ]
  },
  {
   "cell_type": "code",
   "execution_count": 214,
   "id": "397681d1",
   "metadata": {},
   "outputs": [
    {
     "name": "stdout",
     "output_type": "stream",
     "text": [
      "d\n",
      "e\n",
      "j\n",
      "r\n",
      "s\n",
      "hola\n"
     ]
    }
   ],
   "source": [
    "check_pass('1Ejed7res')"
   ]
  },
  {
   "cell_type": "code",
   "execution_count": 58,
   "id": "8a8be4bc",
   "metadata": {},
   "outputs": [
    {
     "name": "stdout",
     "output_type": "stream",
     "text": [
      "ABCDEFGHIJKLMNOPQRSTUVWXYZ\n"
     ]
    }
   ],
   "source": [
    "lower_case = 'abcdefghijklmnopqrstuvwxyz'\n",
    "upper_case = lower_case.upper()\n",
    "print(upper_case) "
   ]
  },
  {
   "cell_type": "code",
   "execution_count": 107,
   "id": "08f4566d",
   "metadata": {},
   "outputs": [
    {
     "name": "stdout",
     "output_type": "stream",
     "text": [
      "a\n",
      "b\n",
      "c\n",
      "2\n",
      "3\n",
      "4\n"
     ]
    }
   ],
   "source": [
    "for i in 'abc':\n",
    "    print(i)\n",
    "    \n",
    "for a in '234':\n",
    "    print(a)"
   ]
  },
  {
   "cell_type": "code",
   "execution_count": null,
   "id": "02beb9ff",
   "metadata": {},
   "outputs": [],
   "source": []
  }
 ],
 "metadata": {
  "kernelspec": {
   "display_name": "clase",
   "language": "python",
   "name": "clase"
  },
  "language_info": {
   "codemirror_mode": {
    "name": "ipython",
    "version": 3
   },
   "file_extension": ".py",
   "mimetype": "text/x-python",
   "name": "python",
   "nbconvert_exporter": "python",
   "pygments_lexer": "ipython3",
   "version": "3.7.13"
  }
 },
 "nbformat": 4,
 "nbformat_minor": 5
}
